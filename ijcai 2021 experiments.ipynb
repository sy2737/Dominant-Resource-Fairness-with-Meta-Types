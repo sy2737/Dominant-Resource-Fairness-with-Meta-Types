{
 "cells": [
  {
   "cell_type": "code",
   "execution_count": null,
   "metadata": {},
   "outputs": [],
   "source": [
    "from MNW import mnw, discrete_mnw\n",
    "from GDRF import gdrf\n",
    "\n",
    "from agent import Agent\n",
    "import numpy as np\n",
    "import matplotlib.pyplot as plt\n",
    "import seaborn as sns\n",
    "import pandas as pd\n",
    "from util import random_hospital_groups_demands, social_welfare,max_envy\n",
    "from functools import partial\n",
    "import time\n",
    "\n",
    "%load_ext autoreload\n",
    "%autoreload 2\n",
    "plt.rcParams.update({'font.size': 14})\n",
    "plt.rcParams.update({'figure.autolayout': True})"
   ]
  },
  {
   "cell_type": "code",
   "execution_count": null,
   "metadata": {},
   "outputs": [],
   "source": [
    "def one_iteration_with_welfare_envy(meta_types, N, M):\n",
    "    agents = [Agent(*random_hospital_groups_demands(meta_types, budget_random=True)) for _ in range(N)]\n",
    "    supplies = np.random.randint(500*N, 1000*N, size=M)\n",
    "    \n",
    "    # Discrete MNW\n",
    "    start = time.time()\n",
    "    allocations = discrete_mnw(agents, supplies, meta_types)\n",
    "    end = time.time()\n",
    "    DMNW_time = end-start\n",
    "    \n",
    "    dmnw_envy = max_envy(agents, allocations, supplies)\n",
    "    dmnw_sw = social_welfare(agents, allocations, supplies)\n",
    "    \n",
    "    \n",
    "    \n",
    "    # MNW\n",
    "    start = time.time()\n",
    "    allocations = mnw(agents, supplies, meta_types)\n",
    "    end = time.time()\n",
    "    MNW_time = end-start\n",
    "    \n",
    "    mnw_envy = max_envy(agents, allocations, supplies)\n",
    "    mnw_sw = social_welfare(agents, allocations, supplies)\n",
    "\n",
    "    # DRF-MT\n",
    "    start = time.time()\n",
    "    allocations = gdrf(agents, supplies, meta_types)\n",
    "    end = time.time()\n",
    "    GDRF_time = end-start\n",
    "    \n",
    "    gdrf_envy = max_envy(agents, allocations, supplies)\n",
    "    gdrf_sw = social_welfare(agents, allocations, supplies)\n",
    "    \n",
    "    \n",
    "    return DMNW_time, dmnw_envy, dmnw_sw, MNW_time, mnw_envy, mnw_sw, GDRF_time, gdrf_envy, gdrf_sw\n",
    "\n",
    "     "
   ]
  },
  {
   "cell_type": "code",
   "execution_count": null,
   "metadata": {},
   "outputs": [],
   "source": [
    "%%time\n",
    "meta_types= [[0],[1, 2], [3, 4, 5], [6, 7, 8, 9]]\n",
    "\n",
    "M = sum([len(omega) for omega in meta_types])\n",
    "Ns = [5, 10, 25, 50, 100, 250, 500, 750, 1000]\n",
    "# Ns = [5, 10]\n",
    "\n",
    "iterations=16\n",
    "\n",
    "DMNW_times_L = []\n",
    "DMNW_envies_L = []\n",
    "DMNW_sws_L = []\n",
    "\n",
    "\n",
    "MNW_times_L = []\n",
    "MNW_envies_L = []\n",
    "MNW_sws_L = []\n",
    "\n",
    "\n",
    "\n",
    "GDRF_times_L = []\n",
    "GDRF_envies_L = []\n",
    "GDRF_sws_L = []\n",
    "\n",
    "\n",
    "##### WITH envy or social welfare #####\n",
    "for N in Ns:\n",
    "    print(N)\n",
    "\n",
    "    results = [one_iteration_with_welfare_envy(meta_types, N, M) for _ in range(iterations)]\n",
    "    DMNW_times, dmnnw_envies, dmnnw_sws, MNW_times, mnw_envies, mnw_sws, GDRF_times, gdrf_envies, gdrf_sws = zip(*results)\n",
    "    \n",
    "    \n",
    "    DMNW_times_L.append(DMNW_times)\n",
    "    DMNW_envies_L.append(dmnnw_envies)\n",
    "    DMNW_sws_L.append(dmnnw_sws)\n",
    "    \n",
    "    MNW_times_L.append(MNW_times)\n",
    "    MNW_envies_L.append(mnw_envies)\n",
    "    MNW_sws_L.append(mnw_sws)\n",
    "    \n",
    "    GDRF_times_L.append(GDRF_times)\n",
    "    GDRF_envies_L.append(gdrf_envies)\n",
    "    GDRF_sws_L.append(gdrf_sws)"
   ]
  },
  {
   "cell_type": "markdown",
   "metadata": {},
   "source": [
    "# Running time comparison"
   ]
  },
  {
   "cell_type": "code",
   "execution_count": null,
   "metadata": {},
   "outputs": [],
   "source": [
    "DMNW_times_L = np.array(DMNW_times_L)\n",
    "DMNW_mean = DMNW_times_L.mean(axis=1)\n",
    "DMNW_std = DMNW_times_L.std(axis=1)\n",
    "\n",
    "MNW_times_L = np.array(MNW_times_L)\n",
    "MNW_mean = MNW_times_L.mean(axis=1)\n",
    "MNW_std = MNW_times_L.std(axis=1)\n",
    "\n",
    "GDRF_times_L = np.array(GDRF_times_L)\n",
    "GDRF_mean = np.nanmean(GDRF_times_L, axis=1)\n",
    "GDRF_std = np.nanstd(GDRF_times_L ,axis=1)"
   ]
  },
  {
   "cell_type": "code",
   "execution_count": null,
   "metadata": {},
   "outputs": [],
   "source": [
    "plt.plot(Ns,DMNW_mean)\n",
    "plt.fill_between(Ns, DMNW_mean+DMNW_std, DMNW_mean-DMNW_std, alpha=0.5)\n",
    "plt.plot(Ns,MNW_mean)\n",
    "plt.fill_between(Ns, MNW_mean+MNW_std, MNW_mean-MNW_std, alpha=0.5)\n",
    "plt.plot(Ns,GDRF_mean)\n",
    "plt.fill_between(Ns, GDRF_mean+GDRF_std, GDRF_mean-GDRF_std, alpha=0.5)\n",
    "\n",
    "\n",
    "plt.legend([\"Discrete MNW\", \"MNW\", \"DRF-MT\"])\n",
    "plt.ylabel(\"seconds\")\n",
    "plt.xlabel(\"Number of Agents\")"
   ]
  },
  {
   "cell_type": "code",
   "execution_count": null,
   "metadata": {},
   "outputs": [],
   "source": [
    "envy_df = pd.DataFrame({\"Discrete MNW\": np.array(DMNW_envies_L).flatten(),\n",
    "                        \"MNW\":          np.array( MNW_envies_L).flatten(),\n",
    "                        \"DRF-MT\":         np.array(GDRF_envies_L).flatten(),\n",
    "                        \"Number of agents\": np.array([[N]*iterations for N in Ns]).flatten()})\n",
    "\n",
    "envy_df = pd.melt(envy_df, id_vars=['Number of agents'], value_vars=['Discrete MNW', 'MNW', \"DRF-MT\"],\n",
    "        var_name='Algorithm', value_name='Max Envy')"
   ]
  },
  {
   "cell_type": "code",
   "execution_count": null,
   "metadata": {},
   "outputs": [],
   "source": [
    "ax = sns.boxplot(x=\"Number of agents\", y=\"Max Envy\", hue=\"Algorithm\",              \n",
    "data=envy_df[envy_df[\"Number of agents\"].isin([50,100, 250, 500, 750, 1000])])\n",
    "# ax = sns.boxplot(x=\"Number of agents\", y=\"Max Envy\", hue=\"Algorithm\",              \n",
    "# data=envy_df[envy_df[\"Number of agents\"].isin(Ns)])"
   ]
  },
  {
   "cell_type": "markdown",
   "metadata": {},
   "source": [
    "# Social welfare comparison\n",
    "## DRF-MT vs Discrete MNW"
   ]
  },
  {
   "cell_type": "code",
   "execution_count": null,
   "metadata": {},
   "outputs": [],
   "source": [
    "dmnw_sw_df = pd.DataFrame(DMNW_sws_L)\n",
    "gdrf_sw_df = pd.DataFrame(GDRF_sws_L)\n",
    "normalized_diff = (gdrf_sw_df-dmnw_sw_df)/dmnw_sw_df\n",
    "normalized_diff.index = Ns"
   ]
  },
  {
   "cell_type": "code",
   "execution_count": null,
   "metadata": {},
   "outputs": [],
   "source": [
    "hist_plot = pd.DataFrame(normalized_diff.values.flatten()).plot(kind=\"hist\", bins=25, title=\"\", legend=False, grid=True)\n",
    "plt.ylabel(\"Count\")\n",
    "plt.xlabel(\"Ratio\")"
   ]
  },
  {
   "cell_type": "code",
   "execution_count": null,
   "metadata": {},
   "outputs": [],
   "source": [
    "normalized_diff.T.plot.box()\n",
    "plt.xlabel(\"Number of Agents\")\n",
    "plt.ylabel(\"Ratio\")\n",
    "plt.title(\"Normalized Difference in Social Welfare\")"
   ]
  },
  {
   "cell_type": "markdown",
   "metadata": {},
   "source": [
    "## Discrete MNW vs MNW"
   ]
  },
  {
   "cell_type": "code",
   "execution_count": null,
   "metadata": {},
   "outputs": [],
   "source": [
    "mnw_sw_df = pd.DataFrame(MNW_sws_L)\n",
    "normalized_diff_dmnw_mnw = (mnw_sw_df-dmnw_sw_df)/dmnw_sw_df\n",
    "pd.DataFrame(normalized_diff_dmnw_mnw.values.flatten()).plot(title=\"\",grid=True,legend=False, kind=\"hist\", bins=25)\n",
    "plt.ylabel(\"Count\")\n",
    "plt.xlabel(\"Ratio\")"
   ]
  },
  {
   "cell_type": "markdown",
   "metadata": {},
   "source": [
    "# More running time comparisons"
   ]
  },
  {
   "cell_type": "code",
   "execution_count": null,
   "metadata": {},
   "outputs": [],
   "source": [
    "def one_iteration(meta_types, N, M):\n",
    "    agents = [Agent(*random_hospital_groups_demands(meta_types, budget_random=True)) for _ in range(N)]\n",
    "    supplies = np.random.randint(500*N, 1000*N, size=M)\n",
    "    \n",
    "    # Discrete MNW\n",
    "    start = time.time()\n",
    "    allocations = discrete_mnw(agents, supplies, meta_types)\n",
    "    end = time.time()\n",
    "    DMNW_time = end-start\n",
    "    # MNW\n",
    "\n",
    "    start = time.time()\n",
    "    allocations = mnw(agents, supplies, meta_types)\n",
    "    end = time.time()\n",
    "    MNW_time = end-start\n",
    "\n",
    "    # DRF\n",
    "    start = time.time()\n",
    "    allocations = gdrf(agents, supplies, meta_types)\n",
    "    end = time.time()\n",
    "    GDRF_time = end-start\n",
    "    \n",
    "    \n",
    "    return DMNW_time, MNW_time, GDRF_time"
   ]
  },
  {
   "cell_type": "markdown",
   "metadata": {},
   "source": [
    "## Bigger meta-types structure"
   ]
  },
  {
   "cell_type": "code",
   "execution_count": null,
   "metadata": {},
   "outputs": [],
   "source": [
    "%%time\n",
    "meta_types= [[0],[1, 2], [3, 4, 5], [6, 7, 8, 9], [10,11,12,13,14]]\n",
    "\n",
    "M = sum([len(omega) for omega in meta_types])\n",
    "Ns = [5, 10, 25, 50, 100, 250, 500, 750, 1000]\n",
    "# Ns = [5, 10]\n",
    "\n",
    "iterations=16\n",
    "\n",
    "bDMNW_times_L = []\n",
    "bMNW_times_L = []\n",
    "bGDRF_times_L = []\n",
    "\n",
    "\n",
    "for N in Ns:\n",
    "    print(N)\n",
    "    bDMNW_times = []\n",
    "    bMNW_times = []\n",
    "    bGDRF_times = []\n",
    "\n",
    "\n",
    "#     with Pool(processes=4) as pool:\n",
    "#         results = pool.starmap(one_iteration, zip([meta_types]*iterations, [N]*iterations, [M]*iterations))\n",
    "    results = [one_iteration(meta_types, N, M) for _ in range(iterations)]\n",
    "    bDMNW_times, bMNW_times, bGDRF_times = zip(*results)\n",
    "    \n",
    "    bDMNW_times_L.append(bDMNW_times)\n",
    "    bMNW_times_L.append(bMNW_times)\n",
    "    bGDRF_times_L.append(bGDRF_times)"
   ]
  },
  {
   "cell_type": "code",
   "execution_count": null,
   "metadata": {},
   "outputs": [],
   "source": [
    "bDMNW_times_L = np.array(bDMNW_times_L)\n",
    "bDMNW_mean = bDMNW_times_L.mean(axis=1)\n",
    "bDMNW_std = bDMNW_times_L.std(axis=1)\n",
    "\n",
    "\n",
    "bMNW_times_L = np.array(bMNW_times_L)\n",
    "bMNW_mean = bMNW_times_L.mean(axis=1)\n",
    "bMNW_std = bMNW_times_L.std(axis=1)\n",
    "\n",
    "bGDRF_times_L = np.array(bGDRF_times_L)\n",
    "bGDRF_mean = bGDRF_times_L.mean(axis=1)\n",
    "bGDRF_std = bGDRF_times_L.std(axis=1)"
   ]
  },
  {
   "cell_type": "code",
   "execution_count": null,
   "metadata": {},
   "outputs": [],
   "source": [
    "plt.plot(Ns,bDMNW_mean)\n",
    "plt.fill_between(Ns, bDMNW_mean+bDMNW_std, bDMNW_mean-bDMNW_std, alpha=0.5)\n",
    "plt.plot(Ns,bMNW_mean)\n",
    "plt.fill_between(Ns, bMNW_mean+bMNW_std, bMNW_mean-bMNW_std, alpha=0.5)\n",
    "plt.plot(Ns,bGDRF_mean)\n",
    "plt.fill_between(Ns, bGDRF_mean+bGDRF_std, bGDRF_mean-bGDRF_std, alpha=0.5)\n",
    "\n",
    "\n",
    "plt.legend([\"Discrete MNW\", \"MNW\", \"DRF-MT\"])\n",
    "plt.ylabel(\"seconds\")\n",
    "plt.xlabel(\"Number of Agents\")"
   ]
  },
  {
   "cell_type": "markdown",
   "metadata": {},
   "source": [
    "## Increasing number of resource meta-types"
   ]
  },
  {
   "cell_type": "code",
   "execution_count": null,
   "metadata": {},
   "outputs": [],
   "source": [
    "%%time\n",
    "Ls = np.array([5, 30, 60, 90])\n",
    "# Ls = np.array([5, 10])\n",
    "iterations=16\n",
    "\n",
    "mt_MNW_times_L = []\n",
    "mt_GDRF_times_L = []\n",
    "mt_DMNW_times_L = []\n",
    "\n",
    "N = 50\n",
    "\n",
    "for L in Ls:\n",
    "    print(L)\n",
    "    meta_types = [list(range(l*5, l*5+5)) for l in range(L)]\n",
    "    M = L*5\n",
    "\n",
    "    results = [one_iteration(meta_types, N, M) for _ in range(iterations)]\n",
    "    DMNW_times, MNW_times, GDRF_times = zip(*results)\n",
    "    \n",
    "    mt_DMNW_times_L.append(DMNW_times)\n",
    "    mt_MNW_times_L.append(MNW_times)\n",
    "    mt_GDRF_times_L.append(GDRF_times)\n"
   ]
  },
  {
   "cell_type": "code",
   "execution_count": null,
   "metadata": {},
   "outputs": [],
   "source": [
    "mt_DMNW_times_L = np.array(mt_DMNW_times_L)\n",
    "mt_DMNW_mean = mt_DMNW_times_L.mean(axis=1)\n",
    "mt_DMNW_std = mt_DMNW_times_L.std(axis=1)\n",
    "\n",
    "\n",
    "mt_MNW_times_L = np.array(mt_MNW_times_L)\n",
    "mt_MNW_mean = mt_MNW_times_L.mean(axis=1)\n",
    "mt_MNW_std = mt_MNW_times_L.std(axis=1)\n",
    "\n",
    "mt_GDRF_times_L = np.array(mt_GDRF_times_L)\n",
    "mt_GDRF_mean = mt_GDRF_times_L.mean(axis=1)\n",
    "mt_GDRF_std = mt_GDRF_times_L.std(axis=1)"
   ]
  },
  {
   "cell_type": "code",
   "execution_count": null,
   "metadata": {},
   "outputs": [],
   "source": [
    "plt.plot(Ls,mt_DMNW_mean)\n",
    "plt.fill_between(Ls, mt_DMNW_mean+mt_DMNW_std, mt_DMNW_mean-mt_DMNW_std, alpha=0.5)\n",
    "plt.plot(Ls,mt_MNW_mean)\n",
    "plt.fill_between(Ls, mt_MNW_mean+mt_MNW_std, mt_MNW_mean-mt_MNW_std, alpha=0.5)\n",
    "plt.plot(Ls,mt_GDRF_mean)\n",
    "plt.fill_between(Ls, mt_GDRF_mean+mt_GDRF_std, mt_GDRF_mean-mt_GDRF_std, alpha=0.5)\n",
    "\n",
    "\n",
    "plt.legend([\"Discrete MNW\", \"MNW\", \"DRF-MT\"])\n",
    "plt.ylabel(\"seconds\")\n",
    "plt.xlabel(\"Number of meta types\")"
   ]
  },
  {
   "cell_type": "markdown",
   "metadata": {},
   "source": [
    "## Just DRF-MT and MNW"
   ]
  },
  {
   "cell_type": "markdown",
   "metadata": {},
   "source": [
    "### Scaling up number of agents"
   ]
  },
  {
   "cell_type": "code",
   "execution_count": null,
   "metadata": {},
   "outputs": [],
   "source": [
    "def one_iteration_2methods(meta_types, N, M):\n",
    "    agents = [Agent(*random_hospital_groups_demands(meta_types, budget_random=True)) for _ in range(N)]\n",
    "    supplies = np.random.randint(500*N, 1000*N, size=M)\n",
    "\n",
    "    # MNW\n",
    "    start = time.time()\n",
    "    allocations = mnw(agents, supplies, meta_types)\n",
    "    end = time.time()\n",
    "    MNW_time = end-start\n",
    "\n",
    "    # DRF\n",
    "    start = time.time()\n",
    "    allocations = gdrf(agents, supplies, meta_types)\n",
    "    end = time.time()\n",
    "    GDRF_time = end-start\n",
    "    \n",
    "    \n",
    "    return MNW_time, GDRF_time"
   ]
  },
  {
   "cell_type": "code",
   "execution_count": null,
   "metadata": {},
   "outputs": [],
   "source": [
    "%%time\n",
    "meta_types= [[0],[1, 2], [3, 4, 5], [6, 7, 8, 9]]\n",
    "\n",
    "M = sum([len(omega) for omega in meta_types])\n",
    "Ns = [50, 500, 1000, 2000, 4000, 7000, 10000]\n",
    "# Ns = [50, 500]\n",
    "\n",
    "iterations=16\n",
    "\n",
    "\n",
    "MNW_2_times_L = []\n",
    "MNW_2_envies_L = []\n",
    "MNW_2_sws_L = []\n",
    "\n",
    "\n",
    "\n",
    "DRFMT_2_times_L = []\n",
    "DRFMT_2_envies_L = []\n",
    "DRFMT_2_sws_L = []\n",
    "\n",
    "\n",
    "\n",
    "#### WITHOUT envy or social welfare #####\n",
    "for N in Ns:\n",
    "    print(N)\n",
    "\n",
    "#     with Pool(processes=4) as pool:\n",
    "#         results = pool.starmap(one_iteration, zip([meta_types]*iterations, [N]*iterations, [M]*iterations))\n",
    "    results = [one_iteration_2methods(meta_types, N, M) for _ in range(iterations)]\n",
    "    MNW_times, DRFMT_times = zip(*results)\n",
    "    \n",
    "\n",
    "    MNW_2_times_L.append(MNW_times)\n",
    "    DRFMT_2_times_L.append(DRFMT_times)\n",
    "    \n",
    "\n"
   ]
  },
  {
   "cell_type": "code",
   "execution_count": null,
   "metadata": {},
   "outputs": [],
   "source": [
    "MNW_2_times_L = np.array(MNW_2_times_L)\n",
    "MNW_2_mean = MNW_2_times_L.mean(axis=1)\n",
    "MNW_2_std = MNW_2_times_L.std(axis=1)\n",
    "\n",
    "DRFMT_2_times_L = np.array(DRFMT_2_times_L)\n",
    "DRFMT_2_mean = DRFMT_2_times_L.mean(axis=1)\n",
    "DRFMT_2_std = DRFMT_2_times_L.std(axis=1)"
   ]
  },
  {
   "cell_type": "code",
   "execution_count": null,
   "metadata": {},
   "outputs": [],
   "source": [
    "plt.plot(Ns,MNW_2_mean)\n",
    "plt.fill_between(Ns, MNW_2_mean+MNW_2_std, MNW_2_mean-MNW_2_std, alpha=0.5)\n",
    "plt.plot(Ns,DRFMT_2_mean)\n",
    "plt.fill_between(Ns, DRFMT_2_mean+DRFMT_2_std, DRFMT_2_mean-DRFMT_2_std, alpha=0.5)\n",
    "\n",
    "\n",
    "plt.legend([\"MNW\", \"DRF-MT\"])\n",
    "plt.ylabel(\"seconds\")\n",
    "plt.xlabel(\"Number of Agents\")"
   ]
  },
  {
   "cell_type": "markdown",
   "metadata": {},
   "source": [
    "### Scaling up meta-types"
   ]
  },
  {
   "cell_type": "code",
   "execution_count": null,
   "metadata": {},
   "outputs": [],
   "source": [
    "%%time\n",
    "Ls = np.array([50, 250, 500, 1000, 1500])\n",
    "# Ls = np.array([50, 100])\n",
    "iterations=16\n",
    "\n",
    "mt_MNW_2_times_L = []\n",
    "mt_DRFMT_2_times_L = []\n",
    "\n",
    "\n",
    "N = 50\n",
    "\n",
    "for L in Ls:\n",
    "    print(L)\n",
    "    meta_types = [list(range(l*5, l*5+5)) for l in range(L)]\n",
    "    M = L*5\n",
    "\n",
    "    results = [one_iteration_2methods(meta_types, N, M) for _ in range(iterations)]\n",
    "    MNW_2_times, DRFMT_2_times = zip(*results)\n",
    "    \n",
    "    mt_MNW_2_times_L.append(MNW_2_times)\n",
    "    mt_DRFMT_2_times_L.append(DRFMT_2_times)\n",
    "\n",
    "\n"
   ]
  },
  {
   "cell_type": "code",
   "execution_count": null,
   "metadata": {},
   "outputs": [],
   "source": [
    "mt_MNW_2_times_L = np.array(mt_MNW_2_times_L)\n",
    "mt_MNW_2_mean = mt_MNW_2_times_L.mean(axis=1)\n",
    "mt_MNW_2_std = mt_MNW_2_times_L.std(axis=1)\n",
    "\n",
    "mt_DRFMT_2_times_L = np.array(mt_DRFMT_2_times_L)\n",
    "mt_DRFMT_2_mean = mt_DRFMT_2_times_L.mean(axis=1)\n",
    "mt_DRFMT_2_std = mt_DRFMT_2_times_L.std(axis=1)"
   ]
  },
  {
   "cell_type": "code",
   "execution_count": null,
   "metadata": {},
   "outputs": [],
   "source": [
    "plt.plot(Ls,mt_MNW_2_mean)\n",
    "plt.fill_between(Ls, mt_MNW_2_mean+mt_MNW_2_std, mt_MNW_2_mean-mt_MNW_2_std, alpha=0.5)\n",
    "plt.plot(Ls,mt_DRFMT_2_mean)\n",
    "plt.fill_between(Ls, mt_DRFMT_2_mean+mt_DRFMT_2_std, mt_DRFMT_2_mean-mt_DRFMT_2_std, alpha=0.5)\n",
    "\n",
    "\n",
    "plt.legend([\"MNW\", \"DRF-MT\"])\n",
    "plt.ylabel(\"seconds\")\n",
    "plt.xlabel(\"Number of meta types\")"
   ]
  },
  {
   "cell_type": "code",
   "execution_count": null,
   "metadata": {},
   "outputs": [],
   "source": []
  }
 ],
 "metadata": {
  "kernelspec": {
   "display_name": "Python 3",
   "language": "python",
   "name": "python3"
  },
  "language_info": {
   "codemirror_mode": {
    "name": "ipython",
    "version": 3
   },
   "file_extension": ".py",
   "mimetype": "text/x-python",
   "name": "python",
   "nbconvert_exporter": "python",
   "pygments_lexer": "ipython3",
   "version": "3.8.3"
  }
 },
 "nbformat": 4,
 "nbformat_minor": 4
}
